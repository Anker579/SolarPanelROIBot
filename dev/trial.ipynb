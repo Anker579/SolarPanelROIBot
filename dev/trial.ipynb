{
 "cells": [
  {
   "cell_type": "markdown",
   "id": "0549e2b9",
   "metadata": {},
   "source": [
    "## Trial File to make sure repository git pull/commit is working and google solar API testing "
   ]
  },
  {
   "cell_type": "markdown",
   "id": "a4d0d95e",
   "metadata": {},
   "source": [
    "### Importing"
   ]
  },
  {
   "cell_type": "code",
   "execution_count": 2,
   "id": "43f07c83",
   "metadata": {},
   "outputs": [],
   "source": [
    "import yfinance as yf\n",
    "import datetime as dt\n",
    "import pandas as pd\n",
    "import os\n",
    "from dotenv import load_dotenv\n",
    "import googleapiclient.discovery\n",
    "import requests"
   ]
  },
  {
   "cell_type": "markdown",
   "id": "af5ff323",
   "metadata": {},
   "source": [
    "## Load Environment Variables"
   ]
  },
  {
   "cell_type": "code",
   "execution_count": 3,
   "id": "a88c3695",
   "metadata": {},
   "outputs": [],
   "source": [
    "load_dotenv()\n",
    "GEOCODE_API_KEY = os.getenv(\"GEOCODING_API_KEY\")\n",
    "GOOGLE_API_KEY = os.getenv(\"GOOGLE_API_KEY\")\n",
    "if not GOOGLE_API_KEY:\n",
    "    raise ValueError(\"API key not found. Make sure you have a .env file with GOOGLE_API_KEY set.\")\n"
   ]
  },
  {
   "cell_type": "markdown",
   "id": "a5a66633",
   "metadata": {},
   "source": [
    "## Get Request for Solar Data"
   ]
  },
  {
   "cell_type": "markdown",
   "id": "01052166",
   "metadata": {},
   "source": [
    "### First Attempt: Gemini suggested (Google Solar API)\n",
    "Generates a \"service\" to be used with requests - I don't understand this too much, seems to harder to manipulate the request."
   ]
  },
  {
   "cell_type": "code",
   "execution_count": 11,
   "id": "4fecd51e",
   "metadata": {},
   "outputs": [],
   "source": [
    "# The service and version of the API\n",
    "api_service_name = \"solar\"\n",
    "api_version = \"v1\"\n",
    "\n",
    "# The location for which to get solar data\n",
    "# Replace with the desired latitude and longitude\n",
    "latitude = 52.267142\n",
    "longitude = -0.756885\n",
    "\n",
    "#url = f\"https://solar.googleapis.com/v1/buildingInsights:findClosest?key={GOOGLE_API_KEY}&latitude={latitude}&longitude={longitude}\""
   ]
  },
  {
   "cell_type": "markdown",
   "id": "9f90cbb7",
   "metadata": {},
   "source": [
    "### Using URL Request (Google Solar API)"
   ]
  },
  {
   "cell_type": "code",
   "execution_count": 10,
   "id": "625241e4",
   "metadata": {},
   "outputs": [
    {
     "name": "stdout",
     "output_type": "stream",
     "text": [
      "{\n",
      "  \"error\": {\n",
      "    \"code\": 404,\n",
      "    \"message\": \"Requested entity was not found.\",\n",
      "    \"status\": \"NOT_FOUND\"\n",
      "  }\n",
      "}\n",
      "\n"
     ]
    }
   ],
   "source": [
    "import os\n",
    "import googleapiclient.discovery\n",
    "from dotenv import load_dotenv\n",
    "\n",
    "# Load environment variables from .env file\n",
    "load_dotenv()\n",
    "\n",
    "# Get your API key from the environment variable\n",
    "api_key = os.getenv(\"GOOGLE_API_KEY\")\n",
    "\n",
    "# Check if the API key is available\n",
    "if not api_key:\n",
    "    raise ValueError(\"API key not found. Make sure you have a .env file with GOOGLE_API_KEY set.\")\n",
    "\n",
    "# The service and version of the API\n",
    "api_service_name = \"solar\"\n",
    "api_version = \"v1\"\n",
    "\n",
    "# The location for which to get solar data\n",
    "# Replace with the desired latitude and longitude\n",
    "latitude = 52.2661775\n",
    "longitude = -0.7577842\n",
    "#longitude = -0.770228\n",
    "\n",
    "def get_solar_data2(lat, long):\n",
    "    building_insights_url = f\"https://solar.googleapis.com/v1/buildingInsights:findClosest?location.latitude={lat}&location.longitude={long}&requiredQuality=MEDIUM&key={GOOGLE_API_KEY}\"\n",
    "    data_layers_url = f\"https://solar.googleapis.com/v1/dataLayers:get?location.latitude={long}&location.longitude={long}&radius_meters=5&requiredQuality=MEDIUM&key={GOOGLE_API_KEY}\"\n",
    "    b_i_response = requests.get(url=building_insights_url)\n",
    "    d_l_response = requests.get(url=data_layers_url)\n",
    "    return b_i_response, d_l_response\n",
    "\n",
    "\n",
    "if __name__ == \"__main__\":\n",
    "    res = get_solar_data2(latitude, longitude)\n",
    "    print(res[1].text)"
   ]
  },
  {
   "cell_type": "markdown",
   "id": "27ef21ec",
   "metadata": {},
   "source": [
    "### PVGIS Request\n",
    "This API might be better than google, as google cannot give the solar flux/energy production from a cell for all of the UK, whereas this should."
   ]
  },
  {
   "cell_type": "code",
   "execution_count": 45,
   "id": "4de4e661",
   "metadata": {},
   "outputs": [],
   "source": [
    "#lat & long\n",
    "latitude = 52.2661775\n",
    "longitude = -0.7577842\n",
    "\n",
    "rad_database = \"PVGIS-SARAH\"\n",
    "\n",
    "#The peak power output of a solar cell under perfect test conditions, measured in Watts. The value of 400 is an industry standard/average I am using to start off with\n",
    "peak_power = 0.4\n",
    "\n",
    "#The system loss, given as a percentage, is the power lost due problems in the system from cables, dirt, inverters etc. another industry average/estimate of 14% used\n",
    "system_loss = 14.0\n",
    "\n",
    "pv_technology = \"crystSi\"\n",
    "\n",
    "power_url = f\"https://re.jrc.ec.europa.eu/api/v5_3/PVcalc?lat={latitude}&lon={longitude}&raddatbase={rad_database}&peakpower={peak_power}&loss={system_loss}&outputformat=json\""
   ]
  },
  {
   "cell_type": "code",
   "execution_count": null,
   "id": "314bb9f7",
   "metadata": {},
   "outputs": [
    {
     "name": "stdout",
     "output_type": "stream",
     "text": [
      "{'inputs': {'location': {'latitude': 52.2661775, 'longitude': -0.7577842, 'elevation': 89.0}, 'meteo_data': {'radiation_db': 'PVGIS-SARAH3', 'meteo_db': 'ERA5', 'year_min': 2005, 'year_max': 2023, 'use_horizon': True, 'horizon_db': 'DEM-calculated'}, 'mounting_system': {'fixed': {'slope': {'value': 0, 'optimal': False}, 'azimuth': {'value': 0, 'optimal': False}, 'type': 'free-standing'}}, 'pv_module': {'technology': 'c-Si', 'peak_power': 0.4, 'system_loss': 14.0}, 'economic_data': {'system_cost': None, 'interest': None, 'lifetime': None}}, 'outputs': {'monthly': {'fixed': [{'month': 1, 'E_d': 0.23, 'E_m': 7.01, 'H(i)_d': 0.78, 'H(i)_m': 24.19, 'SD_m': 0.77}, {'month': 2, 'E_d': 0.45, 'E_m': 12.65, 'H(i)_d': 1.44, 'H(i)_m': 40.3, 'SD_m': 2.02}, {'month': 3, 'E_d': 0.85, 'E_m': 26.22, 'H(i)_d': 2.57, 'H(i)_m': 79.75, 'SD_m': 3.35}, {'month': 4, 'E_d': 1.35, 'E_m': 40.37, 'H(i)_d': 4.11, 'H(i)_m': 123.36, 'SD_m': 4.49}, {'month': 5, 'E_d': 1.56, 'E_m': 48.51, 'H(i)_d': 4.84, 'H(i)_m': 150.03, 'SD_m': 5.21}, {'month': 6, 'E_d': 1.67, 'E_m': 50.11, 'H(i)_d': 5.24, 'H(i)_m': 157.26, 'SD_m': 5.22}, {'month': 7, 'E_d': 1.62, 'E_m': 50.08, 'H(i)_d': 5.14, 'H(i)_m': 159.23, 'SD_m': 4.82}, {'month': 8, 'E_d': 1.36, 'E_m': 42.05, 'H(i)_d': 4.28, 'H(i)_m': 132.79, 'SD_m': 3.87}, {'month': 9, 'E_d': 1.02, 'E_m': 30.55, 'H(i)_d': 3.21, 'H(i)_m': 96.19, 'SD_m': 2.17}, {'month': 10, 'E_d': 0.57, 'E_m': 17.56, 'H(i)_d': 1.81, 'H(i)_m': 56.14, 'SD_m': 1.51}, {'month': 11, 'E_d': 0.29, 'E_m': 8.8, 'H(i)_d': 1.0, 'H(i)_m': 29.96, 'SD_m': 0.97}, {'month': 12, 'E_d': 0.17, 'E_m': 5.4, 'H(i)_d': 0.64, 'H(i)_m': 19.73, 'SD_m': 0.59}]}, 'totals': {'fixed': {'E_d': 0.93, 'E_m': 28.28, 'E_y': 339.32, 'H(i)_d': 2.93, 'H(i)_m': 89.08, 'H(i)_y': 1068.93, 'SD_m': 1.01, 'SD_y': 12.15, 'l_aoi': -4.79, 'l_spec': '1.70', 'l_tg': -4.7, 'l_total': -20.64}}}, 'meta': {'inputs': {'location': {'description': 'Selected location', 'variables': {'latitude': {'description': 'Latitude', 'units': 'decimal degree'}, 'longitude': {'description': 'Longitude', 'units': 'decimal degree'}, 'elevation': {'description': 'Elevation', 'units': 'm'}}}, 'meteo_data': {'description': 'Sources of meteorological data', 'variables': {'radiation_db': {'description': 'Solar radiation database'}, 'meteo_db': {'description': 'Database used for meteorological variables other than solar radiation'}, 'year_min': {'description': 'First year of the calculations'}, 'year_max': {'description': 'Last year of the calculations'}, 'use_horizon': {'description': 'Include horizon shadows'}, 'horizon_db': {'description': 'Source of horizon data'}}}, 'mounting_system': {'description': 'Mounting system', 'choices': 'fixed, vertical_axis, inclined_axis, two_axis', 'fields': {'slope': {'description': 'Inclination angle from the horizontal plane', 'units': 'degree'}, 'azimuth': {'description': 'Orientation (azimuth) angle of the (fixed) PV system (0 = S, 90 = W, -90 = E)', 'units': 'degree'}}}, 'pv_module': {'description': 'PV module parameters', 'variables': {'technology': {'description': 'PV technology'}, 'peak_power': {'description': 'Nominal (peak) power of the PV module', 'units': 'kW'}, 'system_loss': {'description': 'Sum of system losses', 'units': '%'}}}, 'economic_data': {'description': 'Economic inputs', 'variables': {'system_cost': {'description': 'Total cost of the PV system', 'units': 'user-defined currency'}, 'interest': {'description': 'Annual interest', 'units': '%/y'}, 'lifetime': {'description': 'Expected lifetime of the PV system', 'units': 'y'}}}}, 'outputs': {'monthly': {'type': 'time series', 'timestamp': 'monthly averages', 'variables': {'E_d': {'description': 'Average daily energy production from the given system', 'units': 'kWh/d'}, 'E_m': {'description': 'Average monthly energy production from the given system', 'units': 'kWh/mo'}, 'H(i)_d': {'description': 'Average daily sum of global irradiation per square meter received by the modules of the given system', 'units': 'kWh/m2/d'}, 'H(i)_m': {'description': 'Average monthly sum of global irradiation per square meter received by the modules of the given system', 'units': 'kWh/m2/mo'}, 'SD_m': {'description': 'Standard deviation of the monthly energy production due to year-to-year variation', 'units': 'kWh'}}}, 'totals': {'type': 'time series totals', 'variables': {'E_d': {'description': 'Average daily energy production from the given system', 'units': 'kWh/d'}, 'E_m': {'description': 'Average monthly energy production from the given system', 'units': 'kWh/mo'}, 'E_y': {'description': 'Average annual energy production from the given system', 'units': 'kWh/y'}, 'H(i)_d': {'description': 'Average daily sum of global irradiation per square meter received by the modules of the given system', 'units': 'kWh/m2/d'}, 'H(i)_m': {'description': 'Average monthly sum of global irradiation per square meter received by the modules of the given system', 'units': 'kWh/m2/mo'}, 'H(i)_y': {'description': 'Average annual sum of global irradiation per square meter received by the modules of the given system', 'units': 'kWh/m2/y'}, 'SD_m': {'description': 'Standard deviation of the monthly energy production due to year-to-year variation', 'units': 'kWh'}, 'SD_y': {'description': 'Standard deviation of the annual energy production due to year-to-year variation', 'units': 'kWh'}, 'l_aoi': {'description': 'Angle of incidence loss', 'units': '%'}, 'l_spec': {'description': 'Spectral loss', 'units': '%'}, 'l_tg': {'description': 'Temperature and irradiance loss', 'units': '%'}, 'l_total': {'description': 'Total loss', 'units': '%'}}}}}}\n"
     ]
    }
   ],
   "source": [
    "power_response = requests.get(power_url)\n",
    "print(power_response)\n",
    "data = power_response.json()\n",
    "#monthly average energy production in kWh is in data[\"outputs\"][\"monthly\"][x][\"E_m\"] where x is the list indice for which month 0-11\n",
    "#average in the year in kWh is in data[\"outputs\"][\"totals\"][\"fixed\"][\"E_y\"]"
   ]
  },
  {
   "cell_type": "markdown",
   "id": "77e824a5",
   "metadata": {},
   "source": [
    "## Geocoding Request"
   ]
  },
  {
   "cell_type": "markdown",
   "id": "ee722351",
   "metadata": {},
   "source": [
    "#### Using a generic geocoding API (worse)"
   ]
  },
  {
   "cell_type": "code",
   "execution_count": null,
   "id": "95c33d5a",
   "metadata": {},
   "outputs": [
    {
     "name": "stdout",
     "output_type": "stream",
     "text": [
      "[{\"place_id\":247867770,\"licence\":\"Data © OpenStreetMap contributors, ODbL 1.0. https://osm.org/copyright\",\"osm_type\":\"way\",\"osm_id\":991573254,\"boundingbox\":[\"52.2660547\",\"52.2661775\",\"-0.7579467\",\"-0.7577842\"],\"lat\":\"52.2661775\",\"lon\":\"-0.7577842\",\"display_name\":\"Northampton Road, Earls Barton, North Northamptonshire, England, NN6 0HA, United Kingdom\",\"class\":\"highway\",\"type\":\"secondary\",\"importance\":0.50001}]\n"
     ]
    }
   ],
   "source": [
    "x = \"34 Northampton Road, Earls Barton, UK, NN60HA\"\n",
    "y = \"Northampton, UK\"\n",
    "inputted_address = x\n",
    "\n",
    "geocode_url = f\"https://geocode.maps.co/search?q={inputted_address}&api_key={GEOCODE_API_KEY}\"\n",
    "\n",
    "#lat_long_response = requests.get(geocode_url)\n",
    "#print(lat_long_response.text)"
   ]
  },
  {
   "cell_type": "markdown",
   "id": "77d774d6",
   "metadata": {},
   "source": [
    "#### Using the Google Geocoding API"
   ]
  },
  {
   "cell_type": "code",
   "execution_count": null,
   "id": "8e21df29",
   "metadata": {},
   "outputs": [
    {
     "name": "stdout",
     "output_type": "stream",
     "text": [
      "{'results': [{'address_components': [{'long_name': '0', 'short_name': '0', 'types': ['street_number']}, {'long_name': 'Northampton Road', 'short_name': 'Northampton Rd', 'types': ['route']}, {'long_name': 'Earls Barton', 'short_name': 'Earls Barton', 'types': ['locality', 'political']}, {'long_name': 'Northampton', 'short_name': 'Northampton', 'types': ['postal_town']}, {'long_name': 'North Northamptonshire', 'short_name': 'North Northamptonshire', 'types': ['administrative_area_level_2', 'political']}, {'long_name': 'England', 'short_name': 'England', 'types': ['administrative_area_level_1', 'political']}, {'long_name': 'United Kingdom', 'short_name': 'GB', 'types': ['country', 'political']}, {'long_name': 'NN6', 'short_name': 'NN6', 'types': ['postal_code', 'postal_code_prefix']}], 'formatted_address': '0 Northampton Rd, Earls Barton, Northampton NN6, UK', 'geometry': {'location': {'lat': 52.2644415, 'lng': -0.7595162999999999}, 'location_type': 'RANGE_INTERPOLATED', 'viewport': {'northeast': {'lat': 52.2657904802915, 'lng': -0.7581673197084978}, 'southwest': {'lat': 52.2630925197085, 'lng': -0.7608652802915019}}}, 'place_id': 'EjMwIE5vcnRoYW1wdG9uIFJkLCBFYXJscyBCYXJ0b24sIE5vcnRoYW1wdG9uIE5ONiwgVUsiMBIuChQKEgm7IhE2T6d3SBFAxvHe1wiZABAAKhQKEgnbYq5JT6d3SBGaxL7WRw2-Bw', 'types': ['street_address']}], 'status': 'OK'}\n"
     ]
    }
   ],
   "source": [
    "x = \"34 Northampton Road, Earls Barton, UK, NN60HA\"\n",
    "y = \"Northampton, UK\"\n",
    "inputted_address = x\n",
    "\n",
    "google_geocode_url = f\"https://maps.googleapis.com/maps/api/geocode/json?address=0+Northampton+Road,+Earls+Barton,+UK&key={GOOGLE_API_KEY}\"\n",
    "\n",
    "#edit: make the response a json instead of response object to be able to subscript within.\n",
    "\n",
    "lat_long_response = requests.get(google_geocode_url).json()\n",
    "print(lat_long_response)  \n",
    "latlong_dict = lat_long_response[\"results\"][0][\"geometry\"][\"location\"]\n",
    "latitude = latlong_dict[\"lat\"]\n",
    "longitude = latlong_dict[\"lng\"]"
   ]
  },
  {
   "cell_type": "code",
   "execution_count": null,
   "id": "66b6dc4c",
   "metadata": {},
   "outputs": [],
   "source": []
  }
 ],
 "metadata": {
  "kernelspec": {
   "display_name": "SP_ROI_App",
   "language": "python",
   "name": "python3"
  },
  "language_info": {
   "codemirror_mode": {
    "name": "ipython",
    "version": 3
   },
   "file_extension": ".py",
   "mimetype": "text/x-python",
   "name": "python",
   "nbconvert_exporter": "python",
   "pygments_lexer": "ipython3",
   "version": "3.13.5"
  }
 },
 "nbformat": 4,
 "nbformat_minor": 5
}
